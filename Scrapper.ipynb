{
 "cells": [
  {
   "cell_type": "code",
   "execution_count": 2,
   "metadata": {},
   "outputs": [],
   "source": [
    "import requests\n",
    "import pandas as pd\n",
    "\n"
   ]
  },
  {
   "cell_type": "code",
   "execution_count": 3,
   "metadata": {},
   "outputs": [],
   "source": [
    "def get_cycles_data(curp):\n",
    "    BASE_CURP_URL = f\"https://api.siged.sep.gob.mx/CoreServices/servicios/alumno/schoolCyclesByStudent/curp={curp}\"\n",
    "    response = requests.get(BASE_CURP_URL,verify=False)\n",
    "    if response.status_code == 200:\n",
    "\n",
    "        return response.json()\n",
    "    print(response.status_code)\n",
    "    return None\n",
    "\n",
    "\n",
    "def get_grades_data(StudentCycleID):\n",
    "    BASE_GRADES_URL = f\"https://api.siged.sep.gob.mx/CoreServices/servicios/alumno/evaluationsByStudentCycle/idStudentCycle={StudentCycleID}\"\n",
    "    response = requests.get(BASE_GRADES_URL,verify=False)\n",
    "    if response.status_code == 200:\n",
    "        return response.json()\n",
    "    print(response.status_code)\n",
    "    return None"
   ]
  },
  {
   "cell_type": "code",
   "execution_count": 4,
   "metadata": {},
   "outputs": [],
   "source": [
    "import requests\n",
    "import pandas as pd\n",
    "import time\n",
    "from random import randint\n",
    "import json\n",
    "\n"
   ]
  },
  {
   "cell_type": "code",
   "execution_count": 5,
   "metadata": {},
   "outputs": [],
   "source": [
    "#Requesters\n",
    "# Function to handle retries for API requests\n",
    "def make_request_with_retry(url, max_retries=5, delay=1, backoff_factor=2):\n",
    "    retries = 0\n",
    "    while retries < max_retries:\n",
    "        response = requests.get(url, verify=False)\n",
    "        if response.status_code == 200:\n",
    "            return response.json()\n",
    "        elif response.status_code == 503:  # Service Unavailable\n",
    "            retries += 1\n",
    "            wait_time = delay * (backoff_factor ** retries) + randint(0, 2)  # Add randomness for backoff\n",
    "            print(f\"503 received. Retrying in {wait_time} seconds...\")\n",
    "            time.sleep(wait_time)\n",
    "        else:\n",
    "            print(f\"Error {response.status_code} for URL {url}. Retrying...\")\n",
    "            retries += 1\n",
    "            time.sleep(delay)\n",
    "    \n",
    "    print(f\"Failed to retrieve data after {max_retries} retries.\")\n",
    "    return None\n",
    "\n",
    "# Fetch cycles data with retry logic\n",
    "def get_cycles_data(curp):\n",
    "    BASE_CURP_URL = f\"https://api.siged.sep.gob.mx/CoreServices/servicios/alumno/schoolCyclesByStudent/curp={curp}\"\n",
    "    return make_request_with_retry(BASE_CURP_URL)\n",
    "\n",
    "# Fetch grades data with retry logic\n",
    "def get_grades_data(StudentCycleID):\n",
    "    BASE_GRADES_URL = f\"https://api.siged.sep.gob.mx/CoreServices/servicios/alumno/evaluationsByStudentCycle/idStudentCycle={StudentCycleID}\"\n",
    "    return make_request_with_retry(BASE_GRADES_URL)"
   ]
  },
  {
   "cell_type": "code",
   "execution_count": 6,
   "metadata": {},
   "outputs": [],
   "source": [
    "#Processor\n",
    "\n",
    "# Fetch student data and create DataFrame\n",
    "def fetch_student_data(curp):\n",
    "    # Get school cycle data\n",
    "    cycles_data = get_cycles_data(curp)\n",
    "\n",
    "    if cycles_data is None or 'students' not in cycles_data:\n",
    "        print(f\"No student data found for CURP: {curp}\")\n",
    "        return None\n",
    "    \n",
    "    student = cycles_data['students'][0]\n",
    "    student_id = student['id']\n",
    "    CURP = student['curp']\n",
    "    student_name = student['name']\n",
    "    \n",
    "    # Prepare a list to collect the data\n",
    "    data = []\n",
    "    \n",
    "    # Extract each cycle information\n",
    "    for cycle in student['schoolCyclesDTO']:\n",
    "        print(json.dumps(cycle, indent=4, ensure_ascii=False))\n",
    "        StudentCycleID = cycle['idStudentCycle']\n",
    "        level = cycle['level']\n",
    "        grade = cycle['grade']\n",
    "        school_cycle = cycle['schoolCycle']\n",
    "        shift = cycle['shift']\n",
    "        avg = cycle['avgAcreditation']\n",
    "        \n",
    "        # Get grades for each cycle\n",
    "        grades_data = get_grades_data(StudentCycleID)\n",
    "  \n",
    "        if grades_data is None or 'evaluationStudentCycle' not in grades_data:\n",
    "            print(f\"No grade data found for StudentCycleID: {StudentCycleID}\")\n",
    "            continue\n",
    "        \n",
    "        # Loop through the periods and subjects\n",
    "        cycles =  grades_data['evaluationStudentCycle']\n",
    "        if len(cycles) == 0:\n",
    "            print(f\"No grade data found for StudentCycleID: {StudentCycleID}\")\n",
    "            continue\n",
    "        \n",
    "        periodos = cycles[0]['evaluationPeriodsDTO']\n",
    "        for periodo in periodos:\n",
    "            period = periodo['period']\n",
    "            for subject_info in periodo['subjectsAssesedDTO']:\n",
    "                subject_name = subject_info['subject']\n",
    "                grade = subject_info['subjectGrade']\n",
    "                \n",
    "                # Collect relevant data\n",
    "                data.append({\n",
    "                    'CURP': curp,\n",
    "                    'StudentName': student_name,\n",
    "                    'Level': level,\n",
    "                    'SchoolCycle': school_cycle,\n",
    "                    'Subject': subject_name,\n",
    "                    'GradeObtained': grade,\n",
    "                    'Period': period,\n",
    "                    'Shift': shift,\n",
    "                })\n",
    "        \n",
    "        # Add a row for the average grade\n",
    "        data.append({\n",
    "            'CURP': curp,\n",
    "            'StudentName': student_name,\n",
    "            'Level': level,\n",
    "            'SchoolCycle': school_cycle,\n",
    "            'Subject': 'Promedio',\n",
    "            'GradeObtained': avg,\n",
    "            'Period': 'N/A',\n",
    "            'Shift': shift,\n",
    "        })\n",
    "\n",
    "    # Create a DataFrame\n",
    "    df = pd.DataFrame(data)\n",
    "    return df"
   ]
  },
  {
   "cell_type": "code",
   "execution_count": 7,
   "metadata": {},
   "outputs": [
    {
     "name": "stdout",
     "output_type": "stream",
     "text": [
      "No student data found for CURP: AAAA000102MVZLLTA6\n",
      "None\n"
     ]
    },
    {
     "name": "stderr",
     "output_type": "stream",
     "text": [
      "/Users/ulisesquevedo/miniconda3/lib/python3.11/site-packages/urllib3/connectionpool.py:1061: InsecureRequestWarning: Unverified HTTPS request is being made to host 'api.siged.sep.gob.mx'. Adding certificate verification is strongly advised. See: https://urllib3.readthedocs.io/en/1.26.x/advanced-usage.html#ssl-warnings\n",
      "  warnings.warn(\n"
     ]
    }
   ],
   "source": [
    "# Example usage:\n",
    "curp = \"AAAA000102MVZLLTA6\"  # Replace with the CURP you want to test\n",
    "student_data_df = fetch_student_data(curp)\n",
    "print(student_data_df)"
   ]
  },
  {
   "cell_type": "code",
   "execution_count": 48,
   "metadata": {},
   "outputs": [],
   "source": [
    "student_data_df.to_csv(\"student_data2.csv\", index=False)"
   ]
  },
  {
   "cell_type": "code",
   "execution_count": null,
   "metadata": {},
   "outputs": [],
   "source": []
  }
 ],
 "metadata": {
  "kernelspec": {
   "display_name": "base",
   "language": "python",
   "name": "python3"
  },
  "language_info": {
   "codemirror_mode": {
    "name": "ipython",
    "version": 3
   },
   "file_extension": ".py",
   "mimetype": "text/x-python",
   "name": "python",
   "nbconvert_exporter": "python",
   "pygments_lexer": "ipython3",
   "version": "3.11.7"
  }
 },
 "nbformat": 4,
 "nbformat_minor": 2
}
